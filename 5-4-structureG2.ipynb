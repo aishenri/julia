{
 "cells": [
  {
   "cell_type": "code",
   "execution_count": 9,
   "metadata": {},
   "outputs": [
    {
     "name": "stdout",
     "output_type": "stream",
     "text": [
      "Defining t, u, v, w, x, y, z, a, b, c, A, B, C, D, q\n"
     ]
    }
   ],
   "source": [
    "#https://biblio.ugent.be/publication/8534638/file/8534641.pdf\n",
    "%display latex\n",
    "tempdomain.<t,u,v,w,x,y,z,a,b,c,A,B,C,D,q>=PolynomialRing(GF(3))\n",
    "R=FractionField(tempdomain)\n",
    "R.inject_variables ()"
   ]
  },
  {
   "cell_type": "code",
   "execution_count": 10,
   "metadata": {},
   "outputs": [],
   "source": [
    "def invariants(X):\n",
    "    a=X[0 ,1];b=X[2 ,0];c=X[1,2]\n",
    "    A=X[1 ,0];B=X[0 ,2];C=X[2,1]\n",
    "    x=X[0,0]\n",
    "    return(-b^2*c+x*b*A+A^2*C,\n",
    "           -b*c^2-x*c*A+A^2*B,\n",
    "           -a*c^2+x*c*B+A*B^2,\n",
    "           -a^2*c-x*a*B+B^2*C,\n",
    "           -a^2*b+x*a*C+B*C^2,\n",
    "           -a*b^2-x*b*C+A*C^2,\n",
    "           a*b*c+x*b*B-x*c*C+A*B*C)\n",
    "def from_hvm_co(t):\n",
    "    return Matrix(R,3,3,[-t[3],t[0],-t[5],\n",
    "                         -t[4],t[3],t[2],t[1],-t[6] ,0])"
   ]
  },
  {
   "cell_type": "code",
   "execution_count": 11,
   "metadata": {},
   "outputs": [],
   "source": [
    "P1=(1,0,0,0,0,0,0)\n",
    "P2=(a,0,0,0,0,0,1)\n",
    "P3=(b,0,0,0,0,1,-u)\n",
    "P4=(-u-a*A,1,0,-a,0,a^2,-A)\n",
    "P5=(v+b*B,u,1,b,0,B,b^2-B*u)\n",
    "P6=(-a*v+b^2+c*u+a*b*c,-c,-a,-b+a*c,1,\n",
    "u+2*a*b-a^2*c,-v+b*c)"
   ]
  },
  {
   "cell_type": "code",
   "execution_count": 14,
   "metadata": {},
   "outputs": [
    {
     "data": {
      "text/html": [
       "<html><script type=\"math/tex; mode=display\">\\newcommand{\\Bold}[1]{\\mathbf{#1}}\\left(0, 0, 0, 0, 0, 0, 0\\right)</script></html>"
      ],
      "text/plain": [
       "(0, 0, 0, 0, 0, 0, 0)"
      ]
     },
     "metadata": {},
     "output_type": "display_data"
    },
    {
     "data": {
      "text/html": [
       "<html><script type=\"math/tex; mode=display\">\\newcommand{\\Bold}[1]{\\mathbf{#1}}\\left(0, 0, 0, 0, 0, 0, 0\\right)</script></html>"
      ],
      "text/plain": [
       "(0, 0, 0, 0, 0, 0, 0)"
      ]
     },
     "metadata": {},
     "output_type": "display_data"
    },
    {
     "data": {
      "text/html": [
       "<html><script type=\"math/tex; mode=display\">\\newcommand{\\Bold}[1]{\\mathbf{#1}}\\left(0, 0, 0, u, - u^{2}, 0, 0\\right)</script></html>"
      ],
      "text/plain": [
       "(0, 0, 0, u, -u^2, 0, 0)"
      ]
     },
     "metadata": {},
     "output_type": "display_data"
    },
    {
     "data": {
      "text/html": [
       "<html><script type=\"math/tex; mode=display\">\\newcommand{\\Bold}[1]{\\mathbf{#1}}\\left(0, 0, 0, - u a^{3}, - u^{2}, u, - a^{3}\\right)</script></html>"
      ],
      "text/plain": [
       "(0, 0, 0, -u*a^3, -u^2, u, -a^3)"
      ]
     },
     "metadata": {},
     "output_type": "display_data"
    },
    {
     "data": {
      "text/html": [
       "<html><script type=\"math/tex; mode=display\">\\newcommand{\\Bold}[1]{\\mathbf{#1}}\\left(- u^{2}, - u, - v, u B^{3} -  v^{2}, - u^{2} B^{3} + v b^{3} -  u v^{2}, - u b^{3} -  u^{2} v, - b^{3} + u v\\right)</script></html>"
      ],
      "text/plain": [
       "(-u^2,\n",
       " -u,\n",
       " -v,\n",
       " u*B^3 - v^2,\n",
       " -u^2*B^3 + v*b^3 - u*v^2,\n",
       " -u*b^3 - u^2*v,\n",
       " -b^3 + u*v)"
      ]
     },
     "metadata": {},
     "output_type": "display_data"
    },
    {
     "data": {
      "text/html": [
       "<html><script type=\"math/tex; mode=display\">\\newcommand{\\Bold}[1]{\\mathbf{#1}}\\left(v, - u, v a^{3} -  u^{2}, u a^{3} c^{3} + v^{2} a^{3} + u b^{3} + u^{2} v, u^{2} c^{3} + v b^{3} -  u v^{2}, - u c^{3} -  v^{2}, a^{3} c^{3} + u v\\right)</script></html>"
      ],
      "text/plain": [
       "(v,\n",
       " -u,\n",
       " v*a^3 - u^2,\n",
       " u*a^3*c^3 + v^2*a^3 + u*b^3 + u^2*v,\n",
       " u^2*c^3 + v*b^3 - u*v^2,\n",
       " -u*c^3 - v^2,\n",
       " a^3*c^3 + u*v)"
      ]
     },
     "metadata": {},
     "output_type": "display_data"
    }
   ],
   "source": [
    "for point in [P1 ,P2,P3,P4,P5,P6]:\n",
    "    show(invariants(from_hvm_co(point )))"
   ]
  },
  {
   "cell_type": "code",
   "execution_count": 18,
   "metadata": {},
   "outputs": [],
   "source": [
    "temp.<t>=PolynomialRing(GF(2))\n",
    "k=FractionField(temp)\n",
    "A4.<v1 ,w1 ,v2 ,w2 >=PolynomialRing(k)\n",
    "T2.<x1 ,y1 ,x2 ,y2 >=\\\n",
    "A4.quotient_ring([v1*v2+t*w1*w2+1,(v1+w1)*(v2+w2)+v1*v2])\n",
    "T1.<x,y,xx ,yy >=\\\n",
    "A4.quotient_ring([v2*w2+1,v1^2+v1*w1+w1^2*t+1])\n",
    "T2p.<x1p ,y1p ,x2p ,y2p >=\\\n",
    "A4.quotient_ring([v1*v2+t^2*w1*w2+1,(v1+w1)*(v2+w2)+v1*v2])\n",
    "T1p.<xp ,yp ,xxp ,yyp >=\\\n",
    "A4.quotient_ring([v2*w2+1,v1^2+v1*w1+w1^2*t^2+1])"
   ]
  },
  {
   "cell_type": "code",
   "execution_count": 19,
   "metadata": {},
   "outputs": [],
   "source": [
    "f=T2.hom([(xx*x),(xx*y),(x*yy+y*yy),(yy*y)])\n",
    "g=T1.hom([(x1^2+t*y1^2)*( x2^2+t*y2^2+x2*y2),\n",
    "          y1^2*(x2^2+t*y2^2+x2*y2),x1^2+t*y1^2+x1*y1,\n",
    "          x2^2+t*y2^2+x2*y2])\n",
    "theta=T1p.hom([x+t*y,y,xx,yy])\n",
    "fp=T2p.hom ([( xxp*xp),(xxp*yp),\n",
    "(xp*yyp+yp*yyp),(yyp*yp)])"
   ]
  },
  {
   "cell_type": "code",
   "execution_count": 20,
   "metadata": {},
   "outputs": [
    {
     "name": "stdout",
     "output_type": "stream",
     "text": [
      "OK\n",
      "OK\n",
      "OK\n",
      "OK\n"
     ]
    }
   ],
   "source": [
    "for var in [v1 ,w1,v2,w2]:\n",
    "    assert f(g(theta(var)))==var^2\n",
    "    assert g(theta(fp(var))) ==var^2\n",
    "    print(\"OK\")"
   ]
  },
  {
   "cell_type": "code",
   "execution_count": 22,
   "metadata": {},
   "outputs": [],
   "source": [
    "def qprod(p,q):\n",
    "    if p in R4 and q in R4:\n",
    "        T1, X1, Y1, Z1 = X4(p)\n",
    "        T2, X2, Y2, Z2 = X4(q)\n",
    "        return R4(((T1*T2-X1*X2-Y1*Y2-Z1*Z2).simplify_full(),\n",
    "                   (T1*X2+X1*T2+Y1*Z2-Z1*Y2).simplify_full(),\n",
    "                   (T1*Y2-X1*Z2+Y1*T2+Z1*X2).simplify_full(),\n",
    "                   (T1*Z2+X1*Y2-Y1*X2+Z1*T2).simplify_full()))\n",
    "    if p in S3 and q in S3:\n",
    "        a = qprod(Phi(p),Phi(q))\n",
    "        if X4(a) == (-1,0,0,0):\n",
    "            return N\n",
    "        return ProjN(R4N(a))\n",
    "    raise ValueError(\"Cannot evaluate qprod of {} and {}\".format(p,q))"
   ]
  },
  {
   "cell_type": "code",
   "execution_count": 32,
   "metadata": {},
   "outputs": [
    {
     "data": {
      "text/html": [
       "<html><script type=\"math/tex; mode=display\">\\newcommand{\\Bold}[1]{\\mathbf{#1}}\\left(1, 0, 0, 0\\right)</script></html>"
      ],
      "text/plain": [
       "(1, 0, 0, 0)"
      ]
     },
     "execution_count": 32,
     "metadata": {},
     "output_type": "execute_result"
    }
   ],
   "source": [
    "S3 = Manifold(3, 'S^3', latex_name=r'\\mathbb{S}^3', start_index=1)\n",
    "U = S3.open_subset('U') ;V = S3.open_subset('V') \n",
    "S3.declare_union(U, V);stereoN.<x,y,z> = U.chart()\n",
    "stereoS.<xp,yp,zp> = V.chart(\"xp:x' yp:y' zp:z'\")\n",
    "r2 = x^2+y^2+z^2\n",
    "R4 = Manifold(4, 'R^4', r'\\mathbb{R}^4')\n",
    "X4.<T,X,Y,Z> = R4.chart()\n",
    "rp2 = xp^2 + yp^2 + zp^2\n",
    "Phi = S3.diff_map(R4, {(stereoN, X4): \n",
    "                       [(1-r2)/(r2+1), 2*x/(r2+1), \n",
    "                        2*y/(r2+1), 2*z/(r2+1)],\n",
    "                       (stereoS, X4):\n",
    "                       [(rp2-1)/(rp2+1), 2*xp/(rp2+1), \n",
    "                        2*yp/(rp2+1), 2*zp/(rp2+1)]},\n",
    "                  name='Phi', latex_name=r'\\Phi')\n",
    "One = S3((0,0,0), chart=stereoN, name='1', latex_name=r'\\mathbf{1}')\n",
    "X4(Phi(One))"
   ]
  },
  {
   "cell_type": "code",
   "execution_count": null,
   "metadata": {},
   "outputs": [],
   "source": []
  }
 ],
 "metadata": {
  "kernelspec": {
   "display_name": "SageMath 8.1",
   "language": "",
   "name": "sagemath"
  },
  "language_info": {
   "codemirror_mode": {
    "name": "ipython",
    "version": 2
   },
   "file_extension": ".py",
   "mimetype": "text/x-python",
   "name": "python",
   "nbconvert_exporter": "python",
   "pygments_lexer": "ipython2",
   "version": "2.7.14"
  }
 },
 "nbformat": 4,
 "nbformat_minor": 2
}
