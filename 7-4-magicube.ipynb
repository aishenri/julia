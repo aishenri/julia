{
 "cells": [
  {
   "cell_type": "code",
   "execution_count": 1,
   "metadata": {},
   "outputs": [
    {
     "data": {
      "image/png": "[encoded data removed]",
      "text/plain": [
       "Graphics object consisting of 24 graphics primitives"
      ]
     },
     "metadata": {},
     "output_type": "display_data"
    },
    {
     "data": {
      "text/html": [
       "<html><script type=\"math/tex; mode=display\">\\newcommand{\\Bold}[1]{\\mathbf{#1}}\\left(\\begin{array}{rrrrrrr}\n",
       "0 & 1 & 1 & 1 & 0 & 0 & 0 \\\\\n",
       "1 & 0 & 1 & 1 & 1 & 1 & 0 \\\\\n",
       "1 & 1 & 0 & 1 & 1 & 1 & 1 \\\\\n",
       "1 & 1 & 1 & 0 & 0 & 1 & 1 \\\\\n",
       "0 & 1 & 1 & 0 & 0 & 1 & 0 \\\\\n",
       "0 & 1 & 1 & 1 & 1 & 0 & 1 \\\\\n",
       "0 & 0 & 1 & 1 & 0 & 1 & 0\n",
       "\\end{array}\\right)</script></html>"
      ],
      "text/plain": [
       "[0 1 1 1 0 0 0]\n",
       "[1 0 1 1 1 1 0]\n",
       "[1 1 0 1 1 1 1]\n",
       "[1 1 1 0 0 1 1]\n",
       "[0 1 1 0 0 1 0]\n",
       "[0 1 1 1 1 0 1]\n",
       "[0 0 1 1 0 1 0]"
      ]
     },
     "execution_count": 1,
     "metadata": {},
     "output_type": "execute_result"
    }
   ],
   "source": [
    "%display latex\n",
    "from sage.graphs.graph_coloring import chromatic_number\n",
    "from sage.graphs.graph_coloring import vertex_coloring\n",
    "from sage.graphs.graph_coloring import number_of_n_colorings\n",
    "from sage.graphs.graph_coloring import edge_coloring\n",
    "edges = [(1,2), (1,3), (1,4),\n",
    "    (2,3), (2,4), (2,5), (2, 6),\n",
    "    (3,4), (3,5), (3,6), (3,7),\n",
    "    (4,6), (4,7), (5,6), (6,7)]\n",
    "Gamma = Graph(edges)\n",
    "S = vertex_coloring(Gamma)\n",
    "Gamma.show(partition=S,figsize=3,graph_border=True)\n",
    "Gamma.adjacency_matrix()"
   ]
  },
  {
   "cell_type": "code",
   "execution_count": 3,
   "metadata": {},
   "outputs": [
    {
     "data": {
      "text/html": [
       "<html><script type=\"math/tex; mode=display\">\\newcommand{\\Bold}[1]{\\mathbf{#1}}\\left(\\begin{array}{rrrr}\n",
       "13 & 51 & 50 & 16 \\\\\n",
       "40 & 26 & 27 & 37 \\\\\n",
       "28 & 38 & 39 & 25 \\\\\n",
       "49 & 15 & 14 & 52\n",
       "\\end{array}\\right)</script></html>"
      ],
      "text/plain": [
       "[13 51 50 16]\n",
       "[40 26 27 37]\n",
       "[28 38 39 25]\n",
       "[49 15 14 52]"
      ]
     },
     "execution_count": 3,
     "metadata": {},
     "output_type": "execute_result"
    }
   ],
   "source": [
    "%display latex\n",
    "a=matrix([[13,51,50,16],[40,26,27,37],[28,38,39,25],[49,15,14,52]]);a"
   ]
  },
  {
   "cell_type": "code",
   "execution_count": 4,
   "metadata": {},
   "outputs": [
    {
     "data": {
      "text/html": [
       "<html><script type=\"math/tex; mode=display\">\\newcommand{\\Bold}[1]{\\mathbf{#1}}\\left(\\begin{array}{rrrr}\n",
       "60 & 6 & 7 & 57 \\\\\n",
       "17 & 47 & 46 & 20 \\\\\n",
       "45 & 19 & 18 & 48 \\\\\n",
       "8 & 58 & 59 & 5\n",
       "\\end{array}\\right)</script></html>"
      ],
      "text/plain": [
       "[60  6  7 57]\n",
       "[17 47 46 20]\n",
       "[45 19 18 48]\n",
       "[ 8 58 59  5]"
      ]
     },
     "execution_count": 4,
     "metadata": {},
     "output_type": "execute_result"
    }
   ],
   "source": [
    "b=matrix([[60,6,7,57],[17,47,46,20],[45,19,18,48],[8,58,59,5]]);b"
   ]
  },
  {
   "cell_type": "code",
   "execution_count": 5,
   "metadata": {},
   "outputs": [
    {
     "data": {
      "text/html": [
       "<html><script type=\"math/tex; mode=display\">\\newcommand{\\Bold}[1]{\\mathbf{#1}}\\left(\\begin{array}{rrrr}\n",
       "53 & 11 & 10 & 56 \\\\\n",
       "32 & 34 & 35 & 29 \\\\\n",
       "36 & 30 & 31 & 33 \\\\\n",
       "9 & 55 & 54 & 12\n",
       "\\end{array}\\right)</script></html>"
      ],
      "text/plain": [
       "[53 11 10 56]\n",
       "[32 34 35 29]\n",
       "[36 30 31 33]\n",
       "[ 9 55 54 12]"
      ]
     },
     "execution_count": 5,
     "metadata": {},
     "output_type": "execute_result"
    }
   ],
   "source": [
    "c=matrix([[53,11,10,56],[32,34,35,29],[36,30,31,33],[9,55,54,12]]);c"
   ]
  },
  {
   "cell_type": "code",
   "execution_count": 6,
   "metadata": {},
   "outputs": [
    {
     "data": {
      "text/html": [
       "<html><script type=\"math/tex; mode=display\">\\newcommand{\\Bold}[1]{\\mathbf{#1}}\\left(\\begin{array}{rrrr}\n",
       "4 & 62 & 63 & 1 \\\\\n",
       "41 & 23 & 22 & 44 \\\\\n",
       "21 & 43 & 42 & 24 \\\\\n",
       "64 & 2 & 3 & 61\n",
       "\\end{array}\\right)</script></html>"
      ],
      "text/plain": [
       "[ 4 62 63  1]\n",
       "[41 23 22 44]\n",
       "[21 43 42 24]\n",
       "[64  2  3 61]"
      ]
     },
     "execution_count": 6,
     "metadata": {},
     "output_type": "execute_result"
    }
   ],
   "source": [
    "d=matrix([[4,62,63,1],[41,23,22,44],[21,43,42,24],[64,2,3,61]]);d"
   ]
  },
  {
   "cell_type": "code",
   "execution_count": null,
   "metadata": {},
   "outputs": [],
   "source": []
  },
  {
   "cell_type": "code",
   "execution_count": null,
   "metadata": {},
   "outputs": [],
   "source": []
  }
 ],
 "metadata": {
  "kernelspec": {
   "display_name": "SageMath 8.1",
   "language": "",
   "name": "sagemath"
  },
  "language_info": {
   "codemirror_mode": {
    "name": "ipython",
    "version": 2
   },
   "file_extension": ".py",
   "mimetype": "text/x-python",
   "name": "python",
   "nbconvert_exporter": "python",
   "pygments_lexer": "ipython2",
   "version": "2.7.14"
  }
 },
 "nbformat": 4,
 "nbformat_minor": 2
}
